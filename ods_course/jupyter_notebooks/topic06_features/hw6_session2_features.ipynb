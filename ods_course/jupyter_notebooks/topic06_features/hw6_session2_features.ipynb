{
 "cells": [
  {
   "cell_type": "markdown",
   "metadata": {},
   "source": [
    "<center>\n",
    "<img src=\"../../img/ods_stickers.jpg\">\n",
    "## Открытый курс по машинному обучению. Сессия № 2\n",
    "\n",
    "Автор материала: Арсений Кравченко, DS team lead @ Juno. Материал распространяется на условиях лицензии [Creative Commons CC BY-NC-SA 4.0](https://creativecommons.org/licenses/by-nc-sa/4.0/). Можно использовать в любых целях (редактировать, поправлять и брать за основу), кроме коммерческих, но с обязательным упоминанием автора материала."
   ]
  },
  {
   "cell_type": "markdown",
   "metadata": {},
   "source": [
    "# <center> Домашнее задание №6\n",
    "## <center> Исследование признаков на примере поездок такси в Чикаго"
   ]
  },
  {
   "cell_type": "markdown",
   "metadata": {},
   "source": [
    "Чтобы начать работу, нужно скачать данные о поездках на такси в Чикаго за первые три месяца 2016 года, а также файл `column_remapping.json` и положить их в папку `data` в репозитории (комитить эти файлы не рекомендуется – они немаленькие).\n",
    "\n",
    "Данные доступны на Kaggle в [этом](https://www.kaggle.com/chicago/chicago-taxi-rides-2016) соревновании. Описание данных [тут](https://data.cityofchicago.org/Transportation/Taxi-Trips/wrvz-psew).\n",
    "\n",
    "Заполните код в клетках (где написано \"Ваш код здесь\") и ответьте на вопросы в [веб-форме](https://docs.google.com/forms/d/1yQkyn-FoutHi5BzSHq_YVNdN6ZGJe6za4y018nAi5UM)."
   ]
  },
  {
   "cell_type": "code",
   "execution_count": 1,
   "metadata": {
    "collapsed": true
   },
   "outputs": [],
   "source": [
    "RANDOM_STATE = 42\n",
    "N_FOLDS = 5"
   ]
  },
  {
   "cell_type": "code",
   "execution_count": 2,
   "metadata": {
    "collapsed": true
   },
   "outputs": [],
   "source": [
    "import json\n",
    "from glob import glob\n",
    "\n",
    "import numpy as np\n",
    "import pandas as pd\n",
    "\n",
    "import matplotlib.pyplot as plt\n",
    "%matplotlib inline\n",
    "plt.rcParams['figure.figsize'] = (12, 8)"
   ]
  },
  {
   "cell_type": "markdown",
   "metadata": {},
   "source": [
    "Будем играть с предсказанием цены, `fare` будет целевой переменной, тогда `trip_total` является ликом по отношению к ней – выкинем этот признак."
   ]
  },
  {
   "cell_type": "code",
   "execution_count": 3,
   "metadata": {},
   "outputs": [],
   "source": [
    "dataset_files = sorted(glob('../../data/chicago_taxi_trips_2016_*.csv'))\n",
    "assert len(dataset_files) == 3\n",
    "\n",
    "df = pd.concat(map(pd.read_csv, dataset_files))\n",
    "df.drop('trip_total', axis=1, inplace=True)\n",
    "target = df.pop('fare')"
   ]
  },
  {
   "cell_type": "markdown",
   "metadata": {},
   "source": [
    "Загрузим словарь, ключи которого – названия признаков, а значения – опять же, словари, отображающие индексы уникальных значений признака в сами значения. Если звучит путано, посмотрите, например, на признак `pickup_longitude` в исходных данных и в словаре `column_remapping`."
   ]
  },
  {
   "cell_type": "code",
   "execution_count": 4,
   "metadata": {
    "collapsed": true
   },
   "outputs": [],
   "source": [
    "with open('../../data/column_remapping.json') as json_file:\n",
    "    column_remapping = json.load(json_file)"
   ]
  },
  {
   "cell_type": "code",
   "execution_count": 5,
   "metadata": {},
   "outputs": [
    {
     "data": {
      "text/html": [
       "<div>\n",
       "<style>\n",
       "    .dataframe thead tr:only-child th {\n",
       "        text-align: right;\n",
       "    }\n",
       "\n",
       "    .dataframe thead th {\n",
       "        text-align: left;\n",
       "    }\n",
       "\n",
       "    .dataframe tbody tr th {\n",
       "        vertical-align: top;\n",
       "    }\n",
       "</style>\n",
       "<table border=\"1\" class=\"dataframe\">\n",
       "  <thead>\n",
       "    <tr style=\"text-align: right;\">\n",
       "      <th></th>\n",
       "      <th>taxi_id</th>\n",
       "      <th>trip_start_timestamp</th>\n",
       "      <th>trip_end_timestamp</th>\n",
       "      <th>trip_seconds</th>\n",
       "      <th>trip_miles</th>\n",
       "      <th>pickup_census_tract</th>\n",
       "      <th>dropoff_census_tract</th>\n",
       "      <th>pickup_community_area</th>\n",
       "      <th>dropoff_community_area</th>\n",
       "      <th>tips</th>\n",
       "      <th>tolls</th>\n",
       "      <th>extras</th>\n",
       "      <th>payment_type</th>\n",
       "      <th>company</th>\n",
       "      <th>pickup_latitude</th>\n",
       "      <th>pickup_longitude</th>\n",
       "      <th>dropoff_latitude</th>\n",
       "      <th>dropoff_longitude</th>\n",
       "    </tr>\n",
       "  </thead>\n",
       "  <tbody>\n",
       "    <tr>\n",
       "      <th>0</th>\n",
       "      <td>85.0</td>\n",
       "      <td>2016-1-13 06:15:00</td>\n",
       "      <td>2016-1-13 06:15:00</td>\n",
       "      <td>180.0</td>\n",
       "      <td>0.40</td>\n",
       "      <td>NaN</td>\n",
       "      <td>NaN</td>\n",
       "      <td>24.0</td>\n",
       "      <td>24.0</td>\n",
       "      <td>0.00</td>\n",
       "      <td>0.0</td>\n",
       "      <td>0.0</td>\n",
       "      <td>Cash</td>\n",
       "      <td>107.0</td>\n",
       "      <td>199.0</td>\n",
       "      <td>510.0</td>\n",
       "      <td>199.0</td>\n",
       "      <td>510.0</td>\n",
       "    </tr>\n",
       "    <tr>\n",
       "      <th>1</th>\n",
       "      <td>2776.0</td>\n",
       "      <td>2016-1-22 09:30:00</td>\n",
       "      <td>2016-1-22 09:45:00</td>\n",
       "      <td>240.0</td>\n",
       "      <td>0.70</td>\n",
       "      <td>NaN</td>\n",
       "      <td>NaN</td>\n",
       "      <td>NaN</td>\n",
       "      <td>NaN</td>\n",
       "      <td>4.45</td>\n",
       "      <td>0.0</td>\n",
       "      <td>0.0</td>\n",
       "      <td>Credit Card</td>\n",
       "      <td>NaN</td>\n",
       "      <td>NaN</td>\n",
       "      <td>NaN</td>\n",
       "      <td>NaN</td>\n",
       "      <td>NaN</td>\n",
       "    </tr>\n",
       "    <tr>\n",
       "      <th>2</th>\n",
       "      <td>3168.0</td>\n",
       "      <td>2016-1-31 21:30:00</td>\n",
       "      <td>2016-1-31 21:30:00</td>\n",
       "      <td>0.0</td>\n",
       "      <td>0.00</td>\n",
       "      <td>NaN</td>\n",
       "      <td>NaN</td>\n",
       "      <td>NaN</td>\n",
       "      <td>NaN</td>\n",
       "      <td>5.00</td>\n",
       "      <td>0.0</td>\n",
       "      <td>0.0</td>\n",
       "      <td>Credit Card</td>\n",
       "      <td>119.0</td>\n",
       "      <td>NaN</td>\n",
       "      <td>NaN</td>\n",
       "      <td>NaN</td>\n",
       "      <td>NaN</td>\n",
       "    </tr>\n",
       "    <tr>\n",
       "      <th>3</th>\n",
       "      <td>4237.0</td>\n",
       "      <td>2016-1-23 17:30:00</td>\n",
       "      <td>2016-1-23 17:30:00</td>\n",
       "      <td>480.0</td>\n",
       "      <td>1.10</td>\n",
       "      <td>NaN</td>\n",
       "      <td>NaN</td>\n",
       "      <td>6.0</td>\n",
       "      <td>6.0</td>\n",
       "      <td>0.00</td>\n",
       "      <td>0.0</td>\n",
       "      <td>0.0</td>\n",
       "      <td>Cash</td>\n",
       "      <td>NaN</td>\n",
       "      <td>686.0</td>\n",
       "      <td>500.0</td>\n",
       "      <td>686.0</td>\n",
       "      <td>500.0</td>\n",
       "    </tr>\n",
       "    <tr>\n",
       "      <th>4</th>\n",
       "      <td>5710.0</td>\n",
       "      <td>2016-1-14 05:45:00</td>\n",
       "      <td>2016-1-14 06:00:00</td>\n",
       "      <td>480.0</td>\n",
       "      <td>2.71</td>\n",
       "      <td>NaN</td>\n",
       "      <td>NaN</td>\n",
       "      <td>32.0</td>\n",
       "      <td>NaN</td>\n",
       "      <td>0.00</td>\n",
       "      <td>0.0</td>\n",
       "      <td>0.0</td>\n",
       "      <td>Cash</td>\n",
       "      <td>NaN</td>\n",
       "      <td>385.0</td>\n",
       "      <td>478.0</td>\n",
       "      <td>NaN</td>\n",
       "      <td>NaN</td>\n",
       "    </tr>\n",
       "  </tbody>\n",
       "</table>\n",
       "</div>"
      ],
      "text/plain": [
       "   taxi_id trip_start_timestamp  trip_end_timestamp  trip_seconds  trip_miles  \\\n",
       "0     85.0   2016-1-13 06:15:00  2016-1-13 06:15:00         180.0        0.40   \n",
       "1   2776.0   2016-1-22 09:30:00  2016-1-22 09:45:00         240.0        0.70   \n",
       "2   3168.0   2016-1-31 21:30:00  2016-1-31 21:30:00           0.0        0.00   \n",
       "3   4237.0   2016-1-23 17:30:00  2016-1-23 17:30:00         480.0        1.10   \n",
       "4   5710.0   2016-1-14 05:45:00  2016-1-14 06:00:00         480.0        2.71   \n",
       "\n",
       "   pickup_census_tract  dropoff_census_tract  pickup_community_area  \\\n",
       "0                  NaN                   NaN                   24.0   \n",
       "1                  NaN                   NaN                    NaN   \n",
       "2                  NaN                   NaN                    NaN   \n",
       "3                  NaN                   NaN                    6.0   \n",
       "4                  NaN                   NaN                   32.0   \n",
       "\n",
       "   dropoff_community_area  tips  tolls  extras payment_type  company  \\\n",
       "0                    24.0  0.00    0.0     0.0         Cash    107.0   \n",
       "1                     NaN  4.45    0.0     0.0  Credit Card      NaN   \n",
       "2                     NaN  5.00    0.0     0.0  Credit Card    119.0   \n",
       "3                     6.0  0.00    0.0     0.0         Cash      NaN   \n",
       "4                     NaN  0.00    0.0     0.0         Cash      NaN   \n",
       "\n",
       "   pickup_latitude  pickup_longitude  dropoff_latitude  dropoff_longitude  \n",
       "0            199.0             510.0             199.0              510.0  \n",
       "1              NaN               NaN               NaN                NaN  \n",
       "2              NaN               NaN               NaN                NaN  \n",
       "3            686.0             500.0             686.0              500.0  \n",
       "4            385.0             478.0               NaN                NaN  "
      ]
     },
     "execution_count": 5,
     "metadata": {},
     "output_type": "execute_result"
    }
   ],
   "source": [
    "df.head()"
   ]
  },
  {
   "cell_type": "code",
   "execution_count": 6,
   "metadata": {},
   "outputs": [
    {
     "data": {
      "text/plain": [
       "['pickup_census_tract',\n",
       " 'dropoff_longitude',\n",
       " 'taxi_id',\n",
       " 'pickup_longitude',\n",
       " 'dropoff_latitude',\n",
       " 'dropoff_census_tract',\n",
       " 'company',\n",
       " 'pickup_latitude']"
      ]
     },
     "execution_count": 6,
     "metadata": {},
     "output_type": "execute_result"
    }
   ],
   "source": [
    "assert df.shape == (5432105, 18)\n",
    "list(column_remapping.keys())"
   ]
  },
  {
   "cell_type": "markdown",
   "metadata": {},
   "source": [
    "**<font color='red'>Вопрос №1.</font> Какой из признаков является вещественным и из предобработки требует только заполнения/удаления пропусков? **\n",
    "\n",
    "- dropoff_latitude\n",
    "- tips\n",
    "- company\n",
    "- pickup_census_tract"
   ]
  },
  {
   "cell_type": "markdown",
   "metadata": {},
   "source": [
    "**<font color='red'>Вопрос №2.</font> Какие методы предобработки целевой переменной могут быть уместны, судя по графику? **\n",
    "\n",
    "- возведение в n-ую степень, n >= 2 \n",
    "- ride2vec\n",
    "- логарифмирование\n",
    "- никакие"
   ]
  },
  {
   "cell_type": "code",
   "execution_count": 7,
   "metadata": {},
   "outputs": [
    {
     "data": {
      "image/png": "[encoded data removed]",
      "text/plain": [
       "<matplotlib.figure.Figure at 0x7fad378f8898>"
      ]
     },
     "metadata": {},
     "output_type": "display_data"
    }
   ],
   "source": [
    "target.sample(1000, random_state=RANDOM_STATE).plot(kind='hist', bins=100);"
   ]
  },
  {
   "cell_type": "markdown",
   "metadata": {},
   "source": [
    "**<font color='red'>Вопрос №3.</font> Каково максимальное расстояние (`great-circle distance` из библиотеки `geopy`, в км) между точками `pickup` и `dropoff`?** <br>(Для ускорения подсчета можно использовать `joblib`)\n",
    "- 27.23\n",
    "- 19.91\n",
    "- 23.52\n",
    "- 43.66"
   ]
  },
  {
   "cell_type": "code",
   "execution_count": 32,
   "metadata": {},
   "outputs": [],
   "source": [
    "pickup_dropoff = df[['pickup_latitude', 'pickup_longitude', \n",
    "                     'dropoff_latitude', 'dropoff_longitude']].dropna()\n",
    "column_remapping['pickup_latitude']['0']\n",
    "for col_name in ['pickup_latitude', 'pickup_longitude', \n",
    "                     'dropoff_latitude', 'dropoff_longitude']:\n",
    "    pickup_dropoff[col_name] = pickup_dropoff[col_name].map(int).map(str).map(column_remapping[col_name]).map(float)"
   ]
  },
  {
   "cell_type": "code",
   "execution_count": 41,
   "metadata": {},
   "outputs": [
    {
     "data": {
      "text/plain": [
       "43.662892734777699"
      ]
     },
     "execution_count": 41,
     "metadata": {},
     "output_type": "execute_result"
    }
   ],
   "source": [
    "pickup_dropoff.head()\n",
    "\n",
    "from geopy.distance import great_circle\n",
    "#newport_ri = (41.49008, -71.312796)\n",
    "#cleveland_oh = (41.499498, -81.695391)\n",
    "#great_circle(newport_ri, cleveland_oh).km\n",
    "\n",
    "def great_circle_1(ser):\n",
    "    return great_circle((ser['pickup_latitude'],ser['pickup_longitude']), (ser['dropoff_latitude'],ser['dropoff_longitude'])).km\n",
    "\n",
    "ans = pickup_dropoff.apply(great_circle_1 ,axis=1)\n",
    "ans.max()"
   ]
  },
  {
   "cell_type": "markdown",
   "metadata": {},
   "source": [
    "Давайте обучим простую модель, прежде чем пробовать добавлять признаки."
   ]
  },
  {
   "cell_type": "code",
   "execution_count": 42,
   "metadata": {},
   "outputs": [
    {
     "name": "stdout",
     "output_type": "stream",
     "text": [
      "862.624856973\n",
      "CPU times: user 9.57 s, sys: 5.51 s, total: 15.1 s\n",
      "Wall time: 55.2 s\n"
     ]
    }
   ],
   "source": [
    "%%time\n",
    "from sklearn.linear_model import LinearRegression\n",
    "from sklearn.model_selection import cross_val_score, KFold\n",
    "import warnings\n",
    "\n",
    "with warnings.catch_warnings():\n",
    "    warnings.simplefilter(\"ignore\")\n",
    "\n",
    "    X_data = df[['tips', 'tolls', 'trip_seconds', 'trip_miles']]\n",
    "    X_data['tips'] = X_data.tips.fillna(0)\n",
    "    X_data['tolls'] = X_data.tolls.fillna(0)\n",
    "    X_data['trip_seconds'] = X_data.trip_seconds.fillna(X_data.trip_seconds.median())\n",
    "    X_data['trip_miles'] = X_data.trip_miles.fillna(X_data.trip_miles.median())\n",
    "    y_data = target.fillna(0)\n",
    "    \n",
    "kfold = KFold(n_splits=N_FOLDS, shuffle=True)\n",
    "\n",
    "# cross_val_score максимизирует метрику, так что вместо \n",
    "# минимизации MSE по факту происходит максимизация отрицательного MSE.\n",
    "# Поэтому выведем модуль среднего значения метрики на кросс-валидации.\n",
    "print(np.abs(cross_val_score(LinearRegression(), \n",
    "                X=X_data.values,\n",
    "                y=y_data,\n",
    "                cv=kfold,\n",
    "                scoring='neg_mean_squared_error')\\\n",
    "    .mean()))"
   ]
  },
  {
   "cell_type": "markdown",
   "metadata": {},
   "source": [
    "**<font color='red'>Вопрос №4.</font> В ячейке выше допущено несколько ошибок и неаккуратных действий.\n",
    "Что из перечисленных НЕ является проблемой, влияющей на настоящее качество модели? **\n",
    "\n",
    "- не зафиксирован random seed\n",
    "- признаки разной размерности не нормированы\n",
    "- взята малая подвыборка признаков\n",
    "- пропуски в целевой переменной заполнены неуместным значением по умолчанию"
   ]
  },
  {
   "cell_type": "markdown",
   "metadata": {},
   "source": [
    "Слегка модифицируем обработку данных."
   ]
  },
  {
   "cell_type": "code",
   "execution_count": 9,
   "metadata": {},
   "outputs": [
    {
     "name": "stdout",
     "output_type": "stream",
     "text": [
      "All: 877.711818186\n",
      "tips: 908.722836037\n",
      "tolls: 719.773903068\n",
      "trip_seconds: 905.274108233\n",
      "trip_miles: 879.313958264\n"
     ]
    }
   ],
   "source": [
    "from sklearn.linear_model import LinearRegression\n",
    "from sklearn.model_selection import cross_val_score, KFold\n",
    "import warnings\n",
    "from sklearn.pipeline import make_pipeline\n",
    "from sklearn.preprocessing import StandardScaler\n",
    "\n",
    "with warnings.catch_warnings():\n",
    "    warnings.simplefilter(\"ignore\")\n",
    "    X_data = df[['tips', 'tolls', 'trip_seconds', 'trip_miles']]\n",
    "    X_data['tips'] = X_data.tips.fillna(0)\n",
    "    X_data['tolls'] = X_data.tolls.fillna(0)\n",
    "    X_data['trip_seconds'] = X_data.trip_seconds.fillna(X_data.trip_seconds.median())\n",
    "    X_data['trip_miles'] = X_data.trip_miles.fillna(X_data.trip_miles.median())\n",
    "    mask = np.isnan(target)\n",
    "\n",
    "X_data = X_data[~mask]\n",
    "y_data = target[~mask]\n",
    "\n",
    "pipeline = make_pipeline(StandardScaler(),\n",
    "                         LinearRegression())\n",
    "\n",
    "kfold = KFold(n_splits=N_FOLDS, shuffle=True, random_state=RANDOM_STATE)\n",
    "print(\"All:\", np.abs(cross_val_score(pipeline,\n",
    "                X=X_data.values,\n",
    "                y=y_data,\n",
    "                cv=kfold,\n",
    "                scoring='neg_mean_squared_error').mean()))\n",
    "\n",
    "print(\"tips:\", np.abs(cross_val_score(pipeline,\n",
    "                X=X_data.drop('tips', axis=1).values,\n",
    "                y=y_data,\n",
    "                cv=kfold,\n",
    "                scoring='neg_mean_squared_error').mean()))\n",
    "\n",
    "print(\"tolls:\", np.abs(cross_val_score(pipeline,\n",
    "                X=X_data.drop('tolls', axis=1).values,\n",
    "                y=y_data,\n",
    "                cv=kfold,\n",
    "                scoring='neg_mean_squared_error').mean()))\n",
    "\n",
    "print(\"trip_seconds:\", np.abs(cross_val_score(pipeline,\n",
    "                X=X_data.drop('trip_seconds', axis=1).values,\n",
    "                y=y_data,\n",
    "                cv=kfold,\n",
    "                scoring='neg_mean_squared_error').mean()))\n",
    "\n",
    "print(\"trip_miles:\", np.abs(cross_val_score(pipeline,\n",
    "                X=X_data.drop('trip_miles', axis=1).values,\n",
    "                y=y_data,\n",
    "                cv=kfold,\n",
    "                scoring='neg_mean_squared_error').mean()))"
   ]
  },
  {
   "cell_type": "markdown",
   "metadata": {},
   "source": [
    "**<font color='red'>Вопрос №5.</font> Какой из признаков нужно убрать, чтобы качество модели улучшилось значительнее всего?**\n",
    "\n",
    "- tips\n",
    "- tolls \n",
    "- trip_seconds\n",
    "- trip_miles\n",
    "- ни один из вышеперечисленных"
   ]
  },
  {
   "cell_type": "markdown",
   "metadata": {},
   "source": [
    "Давайте построим модель на двух признаках (время поездки и пройденное расстояние) и попробуем добавить еще один признак, связанный с датой. "
   ]
  },
  {
   "cell_type": "code",
   "execution_count": 10,
   "metadata": {},
   "outputs": [
    {
     "name": "stdout",
     "output_type": "stream",
     "text": [
      "CPU times: user 2min 21s, sys: 2.85 s, total: 2min 24s\n",
      "Wall time: 2min 36s\n"
     ]
    }
   ],
   "source": [
    "%%time\n",
    "with warnings.catch_warnings():\n",
    "    warnings.simplefilter(\"ignore\")\n",
    "    X_data = df[['trip_start_timestamp', 'trip_seconds', 'trip_miles']]\n",
    "    X_data['trip_seconds'] = X_data.trip_seconds.fillna(X_data.trip_seconds.median())\n",
    "    X_data['trip_miles'] = X_data.trip_miles.fillna(X_data.trip_miles.median())\n",
    "    mask = np.isnan(target)\n",
    "\n",
    "X_data = X_data[~mask]\n",
    "y_data = target[~mask]\n",
    "\n",
    "timestamp = pd.to_datetime(X_data.pop('trip_start_timestamp'))\n",
    "\n",
    "t1 = timestamp.apply(lambda x: x.dayofweek)\n",
    "t2 = timestamp.apply(lambda x: 1 if x.dayofweek in (5, 6) else 0)\n",
    "t3 = timestamp.apply(lambda x: x.hour)\n",
    "t4 = timestamp.apply(lambda x: x.dayofweek * 24 + x.hour)"
   ]
  },
  {
   "cell_type": "code",
   "execution_count": 11,
   "metadata": {},
   "outputs": [
    {
     "name": "stdout",
     "output_type": "stream",
     "text": [
      "2 feats: 748.904565345\n",
      "0 2 feats: 748.830518281\n",
      "1 2 feats: 748.894392728\n",
      "2 2 feats: 748.904920723\n",
      "3 2 feats: 748.829604818\n"
     ]
    }
   ],
   "source": [
    "print(\"2 feats:\", np.abs(cross_val_score(pipeline,\n",
    "                X=X_data.values,\n",
    "                y=y_data,\n",
    "                cv=kfold,\n",
    "                scoring='neg_mean_squared_error').mean()))\n",
    "\n",
    "for i, t in enumerate((t1, t2, t3, t4)):\n",
    "    X_data_changed = X_data.copy()\n",
    "    X_data_changed['time'] = t\n",
    "    print(i, end=' ')\n",
    "    print(\"2 feats:\", np.abs(cross_val_score(pipeline,\n",
    "                X=X_data_changed.values,\n",
    "                y=y_data,\n",
    "                cv=kfold,\n",
    "                scoring='neg_mean_squared_error').mean()))"
   ]
  },
  {
   "cell_type": "code",
   "execution_count": null,
   "metadata": {},
   "outputs": [],
   "source": []
  },
  {
   "cell_type": "code",
   "execution_count": null,
   "metadata": {},
   "outputs": [],
   "source": []
  },
  {
   "cell_type": "markdown",
   "metadata": {},
   "source": [
    "** <font color='red'>Вопрос №6.</font> Какие выводы можно сделать? **\n",
    "\n",
    "- новые признаки не улучшают модель, т.к. автор намеренно совершил техническую ошибку\n",
    "- новые признаки не улучшают модель, т.к. такова природа данных\n",
    "- новые признаки улучшают модель всего на 3%\n",
    "- новые признаки улучшают модель всего на 7%"
   ]
  },
  {
   "cell_type": "markdown",
   "metadata": {},
   "source": [
    "** <font color='red'>Вопрос №7</font>. Отвлечемся и пофантазируем. Представим, что ввели закон, обязывающий пассажиров такси фотографировать своего водителя перед каждой поездкой и после каждой поездки; к нам, в дополнение к текущему датасету, попали эти фотографии. Как _нельзя_ было бы использовать их в предсказании цены поездки? **\n",
    "\n",
    "- извлечь признаки водителя при помощи предобученной нейронной сети, получив значения на одном из последних полносвязных слоев\n",
    "- использовать метаданные о модели телефона пассажира\n",
    "- использовать геотег с обеих фотографий\n",
    "- использовать время съемки"
   ]
  },
  {
   "cell_type": "markdown",
   "metadata": {},
   "source": [
    "Давайте попробуем преобразовать один из признаков, чтобы избавиться от \"длинного хвоста\" справа."
   ]
  },
  {
   "cell_type": "code",
   "execution_count": 22,
   "metadata": {},
   "outputs": [
    {
     "data": {
      "image/png": "[encoded data removed]",
      "text/plain": [
       "<matplotlib.figure.Figure at 0x7facbc405438>"
      ]
     },
     "metadata": {},
     "output_type": "display_data"
    }
   ],
   "source": [
    "df_tmp = df.copy()\n",
    "df_tmp = df_tmp[df_tmp.trip_seconds > 0]\n",
    "seconds = df_tmp.trip_seconds\n",
    "\n",
    "seconds.sample(10000).plot(kind='hist', bins=100);"
   ]
  },
  {
   "cell_type": "code",
   "execution_count": 26,
   "metadata": {},
   "outputs": [
    {
     "data": {
      "image/png": "[encoded data removed]",
      "text/plain": [
       "<matplotlib.figure.Figure at 0x7facbc4bfba8>"
      ]
     },
     "metadata": {},
     "output_type": "display_data"
    }
   ],
   "source": [
    "seconds.plot(kind='hist', bins=20);"
   ]
  },
  {
   "cell_type": "code",
   "execution_count": 27,
   "metadata": {},
   "outputs": [
    {
     "data": {
      "image/png": "[encoded data removed]",
      "text/plain": [
       "<matplotlib.figure.Figure at 0x7facb2cebb70>"
      ]
     },
     "metadata": {},
     "output_type": "display_data"
    }
   ],
   "source": [
    "seconds.apply(lambda x: np.log(x + 1)).plot(kind='hist', bins=20);"
   ]
  },
  {
   "cell_type": "code",
   "execution_count": 28,
   "metadata": {},
   "outputs": [
    {
     "data": {
      "image/png": "[encoded data removed]",
      "text/plain": [
       "<matplotlib.figure.Figure at 0x7facb2df9ef0>"
      ]
     },
     "metadata": {},
     "output_type": "display_data"
    }
   ],
   "source": [
    "seconds.apply(lambda x: np.log(x)).plot(kind='hist', bins=20);"
   ]
  },
  {
   "cell_type": "markdown",
   "metadata": {},
   "source": [
    "**<font color='red'>Вопрос №8.</font> Зачем в предыдущей ячейке используется `np.log(x + 1)`, а не просто `np.log`?**\n",
    "\n",
    "- чтобы запутать читателей\n",
    "- чтобы получить бимодальное распределение\n",
    "- для скорости вычисления\n",
    "- во избежание `ValueError`"
   ]
  }
 ],
 "metadata": {
  "kernelspec": {
   "display_name": "Python 3",
   "language": "python",
   "name": "python3"
  },
  "language_info": {
   "codemirror_mode": {
    "name": "ipython",
    "version": 3
   },
   "file_extension": ".py",
   "mimetype": "text/x-python",
   "name": "python",
   "nbconvert_exporter": "python",
   "pygments_lexer": "ipython3",
   "version": "3.4.3"
  }
 },
 "nbformat": 4,
 "nbformat_minor": 1
}
