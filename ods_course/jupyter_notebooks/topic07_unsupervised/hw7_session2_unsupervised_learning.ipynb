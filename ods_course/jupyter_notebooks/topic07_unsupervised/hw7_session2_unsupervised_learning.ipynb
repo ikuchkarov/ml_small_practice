{
 "cells": [
  {
   "cell_type": "markdown",
   "metadata": {},
   "source": [
    "<center>\n",
    "<img src=\"../../img/ods_stickers.jpg\">\n",
    "## Открытый курс по машинному обучению. Сессия № 2\n",
    "Авторы материала: Ольга Дайховская, Юрий Кашницкий. Материал распространяется на условиях лицензии [Creative Commons CC BY-NC-SA 4.0](https://creativecommons.org/licenses/by-nc-sa/4.0/). Можно использовать в любых целях (редактировать, поправлять и брать за основу), кроме коммерческих, но с обязательным упоминанием автора материала."
   ]
  },
  {
   "cell_type": "markdown",
   "metadata": {},
   "source": [
    "# <center>Домашнее задание № 7 \n",
    "## <center> Обучение без учителя"
   ]
  },
  {
   "cell_type": "markdown",
   "metadata": {},
   "source": [
    "В этом задании мы разберемся с тем, как работают методы снижения размерности и кластеризации данных. Заодно еще раз попрактикуемся в задаче классификации.\n",
    "\n",
    "Мы будем работать с набором данных [Samsung Human Activity Recognition](https://archive.ics.uci.edu/ml/datasets/Human+Activity+Recognition+Using+Smartphones). Скачайте данные [отсюда](https://cloud.mail.ru/public/3EJK/cB2VXsyrP). Данные поступают с акселерометров и гироскопов мобильных телефонов Samsung Galaxy S3 (подробнее про признаки – по ссылке на UCI выше), также известен вид активности человека с телефоном в кармане – ходил ли он, стоял, лежал, сидел или шел вверх/вниз по лестнице. \n",
    "\n",
    "Вначале мы представим, что вид активности нам неизвестнен, и попробуем кластеризовать людей чисто на основе имеющихся признаков. Затем решим задачу определения вида физической активности именно как задачу классификации. \n",
    "\n",
    "Заполните код в клетках (где написано \"Ваш код здесь\") и ответьте на вопросы в [веб-форме](https://docs.google.com/forms/d/1ga4KcJdwMWsgEeE76vcTQ34C2iLF7VMhM6nIh_BHUNE)."
   ]
  },
  {
   "cell_type": "code",
   "execution_count": 1,
   "metadata": {
    "collapsed": true
   },
   "outputs": [],
   "source": [
    "import numpy as np\n",
    "import pandas as pd\n",
    "import seaborn as sns\n",
    "from tqdm import tqdm_notebook\n",
    "\n",
    "%matplotlib inline\n",
    "from matplotlib import pyplot as plt\n",
    "plt.style.use(['seaborn-darkgrid'])\n",
    "plt.rcParams['figure.figsize'] = (12, 9)\n",
    "plt.rcParams['font.family'] = 'DejaVu Sans'\n",
    "\n",
    "from sklearn import metrics\n",
    "from sklearn.cluster import KMeans, AgglomerativeClustering, SpectralClustering\n",
    "from sklearn.decomposition import PCA\n",
    "from sklearn.model_selection import GridSearchCV\n",
    "from sklearn.preprocessing import StandardScaler\n",
    "from sklearn.svm import LinearSVC\n",
    "\n",
    "RANDOM_STATE = 17"
   ]
  },
  {
   "cell_type": "code",
   "execution_count": 2,
   "metadata": {
    "collapsed": true
   },
   "outputs": [],
   "source": [
    "X_train = np.loadtxt(\"../../data/samsung_HAR/samsung_train.txt\")\n",
    "y_train = np.loadtxt(\"../../data/samsung_HAR/samsung_train_labels.txt\").astype(int)\n",
    "\n",
    "X_test = np.loadtxt(\"../../data/samsung_HAR/samsung_test.txt\")\n",
    "y_test = np.loadtxt(\"../../data/samsung_HAR/samsung_test_labels.txt\").astype(int)"
   ]
  },
  {
   "cell_type": "code",
   "execution_count": 3,
   "metadata": {
    "collapsed": true
   },
   "outputs": [],
   "source": [
    "# Проверим размерности\n",
    "assert(X_train.shape == (7352, 561) and y_train.shape == (7352,))\n",
    "assert(X_test.shape == (2947, 561) and y_test.shape == (2947,))"
   ]
  },
  {
   "cell_type": "markdown",
   "metadata": {},
   "source": [
    "Для кластеризации нам не нужен вектор ответов, поэтому будем работать с объединением обучающей и тестовой выборок. Объедините *X_train* с *X_test*, а *y_train* – с *y_test*. "
   ]
  },
  {
   "cell_type": "code",
   "execution_count": 4,
   "metadata": {},
   "outputs": [
    {
     "name": "stdout",
     "output_type": "stream",
     "text": [
      "(10299, 561)\n",
      "(10299,)\n"
     ]
    }
   ],
   "source": [
    "# Ваш код здесь\n",
    "X = np.vstack([X_train, X_test])\n",
    "y = np.vstack([y_train.reshape((-1, 1)), y_test.reshape((-1, 1))]).ravel()\n",
    "print(X.shape)\n",
    "print(y.shape)"
   ]
  },
  {
   "cell_type": "markdown",
   "metadata": {},
   "source": [
    "Определим число уникальных значений меток целевого класса."
   ]
  },
  {
   "cell_type": "code",
   "execution_count": 5,
   "metadata": {},
   "outputs": [
    {
     "data": {
      "text/plain": [
       "array([1, 2, 3, 4, 5, 6])"
      ]
     },
     "execution_count": 5,
     "metadata": {},
     "output_type": "execute_result"
    }
   ],
   "source": [
    "np.unique(y)"
   ]
  },
  {
   "cell_type": "code",
   "execution_count": 6,
   "metadata": {
    "collapsed": true
   },
   "outputs": [],
   "source": [
    "n_classes = np.unique(y).size"
   ]
  },
  {
   "cell_type": "markdown",
   "metadata": {},
   "source": [
    "[Эти метки соответствуют:](https://archive.ics.uci.edu/ml/machine-learning-databases/00240/UCI%20HAR%20Dataset.names)\n",
    "- 1 - ходьбе\n",
    "- 2 - подъему вверх по лестнице\n",
    "- 3 - спуску по лестнице\n",
    "- 4 - сидению\n",
    "- 5 - стоянию\n",
    "- 6 - лежанию"
   ]
  },
  {
   "cell_type": "markdown",
   "metadata": {},
   "source": [
    "Отмасштабируйте выборку с помощью `StandardScaler` с параметрами по умолчанию."
   ]
  },
  {
   "cell_type": "code",
   "execution_count": 7,
   "metadata": {
    "collapsed": true
   },
   "outputs": [],
   "source": [
    "# Ваш код здесь\n",
    "scaler = StandardScaler()\n",
    "X_scaled = scaler.fit_transform(X)"
   ]
  },
  {
   "cell_type": "markdown",
   "metadata": {},
   "source": [
    "Понижаем размерность с помощью PCA, оставляя столько компонент, сколько нужно для того, чтобы объяснить как минимум 90% дисперсии исходных (отмасштабированных) данных. Используйте отмасштабированную выборку и зафиксируйте random_state (константа RANDOM_STATE)."
   ]
  },
  {
   "cell_type": "code",
   "execution_count": 8,
   "metadata": {},
   "outputs": [
    {
     "name": "stdout",
     "output_type": "stream",
     "text": [
      "[ 0.50738221  0.06239186  0.02692564  0.02452871  0.01888936  0.01631395\n",
      "  0.01414533  0.01216211  0.00985248  0.00949228  0.00858304  0.0080998\n",
      "  0.00765863  0.00676668  0.00630242  0.00615718  0.00595335  0.00577195\n",
      "  0.00563431  0.0054083   0.00518828  0.00502742  0.00473229  0.00463818\n",
      "  0.00446848  0.00439868  0.00416863  0.00400809  0.00389072  0.00381339\n",
      "  0.0036687   0.00364357  0.00349225  0.00346736  0.00335539  0.00329411\n",
      "  0.00323824  0.00300508  0.00294254  0.00290452  0.00275765  0.00269864\n",
      "  0.00264196  0.0025803   0.00255031  0.00247776  0.00245537  0.0023829\n",
      "  0.00235902  0.00232044  0.0022836   0.00219182  0.00212631  0.00209145\n",
      "  0.0020348   0.00201167  0.00198111  0.00194391  0.00192509  0.00189539\n",
      "  0.00186403  0.00182923  0.00180956  0.00176364  0.00174188]\n",
      "[ 0.50738221  0.56977407  0.59669971  0.62122842  0.64011777  0.65643173\n",
      "  0.67057706  0.68273917  0.69259164  0.70208392  0.71066696  0.71876676\n",
      "  0.72642539  0.73319206  0.73949448  0.74565165  0.751605    0.75737696\n",
      "  0.76301127  0.76841957  0.77360785  0.77863527  0.78336756  0.78800575\n",
      "  0.79247423  0.79687291  0.80104154  0.80504963  0.80894035  0.81275373\n",
      "  0.81642243  0.82006601  0.82355825  0.82702561  0.830381    0.83367511\n",
      "  0.83691335  0.83991843  0.84286097  0.84576549  0.84852314  0.85122179\n",
      "  0.85386374  0.85644405  0.85899435  0.86147211  0.86392749  0.86631039\n",
      "  0.86866941  0.87098985  0.87327345  0.87546527  0.87759158  0.87968303\n",
      "  0.88171782  0.88372949  0.8857106   0.88765451  0.8895796   0.89147499\n",
      "  0.89333902  0.89516825  0.89697782  0.89874146  0.90048333]\n"
     ]
    }
   ],
   "source": [
    "# Ваш код здесь\n",
    "pca = PCA(n_components=65, svd_solver='full', random_state=RANDOM_STATE)\n",
    "evr = pca.fit(X_scaled).explained_variance_ratio_\n",
    "np.sort(evr)\n",
    "print(evr)\n",
    "print(np.cumsum(evr))\n",
    "X_pca = pca.transform(X_scaled)"
   ]
  },
  {
   "cell_type": "code",
   "execution_count": null,
   "metadata": {
    "collapsed": true
   },
   "outputs": [],
   "source": []
  },
  {
   "cell_type": "markdown",
   "metadata": {},
   "source": [
    "**Вопрос 1:**<br>\n",
    "Какое минимальное число главных компонент нужно выделить, чтобы объяснить 90% дисперсии исходных (отмасштабированных) данных?"
   ]
  },
  {
   "cell_type": "code",
   "execution_count": 9,
   "metadata": {
    "collapsed": true
   },
   "outputs": [],
   "source": [
    "# Ваш код здесь\n"
   ]
  },
  {
   "cell_type": "markdown",
   "metadata": {},
   "source": [
    "**Варианты:**\n",
    "- 56 \n",
    "- 65\n",
    "- 66\n",
    "- 193"
   ]
  },
  {
   "cell_type": "markdown",
   "metadata": {},
   "source": [
    "**Вопрос 2:**<br>\n",
    "Сколько процентов дисперсии приходится на первую главную компоненту? Округлите до целых процентов. \n",
    "\n",
    "**Варианты:**\n",
    "- 45\n",
    "- 51\n",
    "- 56\n",
    "- 61"
   ]
  },
  {
   "cell_type": "code",
   "execution_count": null,
   "metadata": {
    "collapsed": true
   },
   "outputs": [],
   "source": []
  },
  {
   "cell_type": "markdown",
   "metadata": {},
   "source": [
    "Визуализируйте данные в проекции на первые две главные компоненты."
   ]
  },
  {
   "cell_type": "code",
   "execution_count": 10,
   "metadata": {},
   "outputs": [
    {
     "data": {
      "image/png": "[encoded data removed]",
      "text/plain": [
       "<matplotlib.figure.Figure at 0x7fa9792c1588>"
      ]
     },
     "metadata": {},
     "output_type": "display_data"
    }
   ],
   "source": [
    "# Ваш код здесь\n",
    "plt.scatter(X_pca[:, 0], X_pca[:, 1], c=y, s=20, cmap='viridis');\n",
    "plt.colorbar();"
   ]
  },
  {
   "cell_type": "markdown",
   "metadata": {},
   "source": [
    "**Вопрос 3:**<br>\n",
    "Если все получилось правильно, Вы увидите сколько-то кластеров, почти идеально отделенных друг от друга. Какие виды активности входят в эти кластеры?<br>\n",
    "\n",
    "**Ответ:**\n",
    "- 1 кластер: все 6 активностей\n",
    "- 2 кластера: (ходьба, подъем вверх по лестнице, спуск по лестнице) и (сидение, стояние, лежание)\n",
    "- 3 кластера: (ходьба), (подъем вверх по лестнице, спуск по лестнице) и (сидение, стояние, лежание)\n",
    "- 6 кластеров"
   ]
  },
  {
   "cell_type": "markdown",
   "metadata": {},
   "source": [
    "------------------------------"
   ]
  },
  {
   "cell_type": "markdown",
   "metadata": {},
   "source": [
    "Сделайте кластеризацию данных методом `KMeans`, обучив модель на данных со сниженной за счет PCA размерностью. В данном случае мы подскажем, что нужно искать именно 6 кластеров, но в общем случае мы не будем знать, сколько кластеров надо искать.\n",
    "\n",
    "Параметры:\n",
    "\n",
    "- **n_clusters** = n_classes (число уникальных меток целевого класса)\n",
    "- **n_init** = 100\n",
    "- **random_state** = RANDOM_STATE (для воспроизводимости результата)\n",
    "\n",
    "Остальные параметры со значениями по умолчанию."
   ]
  },
  {
   "cell_type": "code",
   "execution_count": 11,
   "metadata": {
    "collapsed": true
   },
   "outputs": [],
   "source": [
    "# Ваш код здесь\n",
    "kmeans = KMeans(n_clusters=n_classes, n_init=100, random_state=RANDOM_STATE).fit(X_pca)\n",
    "cluster_labels = kmeans.predict(X_pca)"
   ]
  },
  {
   "cell_type": "markdown",
   "metadata": {},
   "source": [
    "Визуализируйте данные в проекции на первые две главные компоненты. Раскрасьте точки в соответствии с полученными метками кластеров."
   ]
  },
  {
   "cell_type": "code",
   "execution_count": 12,
   "metadata": {},
   "outputs": [
    {
     "data": {
      "image/png": "[encoded data removed]",
      "text/plain": [
       "<matplotlib.figure.Figure at 0x7fa9786700f0>"
      ]
     },
     "metadata": {},
     "output_type": "display_data"
    }
   ],
   "source": [
    "# Ваш код здесь\n",
    "plt.scatter(X_pca[:, 0], X_pca[:, 1], c=cluster_labels, s=20, cmap='viridis');\n",
    "plt.colorbar();"
   ]
  },
  {
   "cell_type": "markdown",
   "metadata": {},
   "source": [
    "Посмотрите на соответствие между метками кластеров и исходными метками классов и на то, какие виды активностей алгоритм `KMeans` путает."
   ]
  },
  {
   "cell_type": "code",
   "execution_count": 13,
   "metadata": {},
   "outputs": [
    {
     "data": {
      "text/html": [
       "<div>\n",
       "<style>\n",
       "    .dataframe thead tr:only-child th {\n",
       "        text-align: right;\n",
       "    }\n",
       "\n",
       "    .dataframe thead th {\n",
       "        text-align: left;\n",
       "    }\n",
       "\n",
       "    .dataframe tbody tr th {\n",
       "        vertical-align: top;\n",
       "    }\n",
       "</style>\n",
       "<table border=\"1\" class=\"dataframe\">\n",
       "  <thead>\n",
       "    <tr style=\"text-align: right;\">\n",
       "      <th></th>\n",
       "      <th>cluster1</th>\n",
       "      <th>cluster2</th>\n",
       "      <th>cluster3</th>\n",
       "      <th>cluster4</th>\n",
       "      <th>cluster5</th>\n",
       "      <th>cluster6</th>\n",
       "      <th>все</th>\n",
       "    </tr>\n",
       "  </thead>\n",
       "  <tbody>\n",
       "    <tr>\n",
       "      <th>ходьба</th>\n",
       "      <td>903</td>\n",
       "      <td>0</td>\n",
       "      <td>0</td>\n",
       "      <td>78</td>\n",
       "      <td>741</td>\n",
       "      <td>0</td>\n",
       "      <td>1722</td>\n",
       "    </tr>\n",
       "    <tr>\n",
       "      <th>подъем вверх по лестнице</th>\n",
       "      <td>1241</td>\n",
       "      <td>0</td>\n",
       "      <td>0</td>\n",
       "      <td>5</td>\n",
       "      <td>296</td>\n",
       "      <td>2</td>\n",
       "      <td>1544</td>\n",
       "    </tr>\n",
       "    <tr>\n",
       "      <th>спуск по лестнице</th>\n",
       "      <td>320</td>\n",
       "      <td>0</td>\n",
       "      <td>0</td>\n",
       "      <td>196</td>\n",
       "      <td>890</td>\n",
       "      <td>0</td>\n",
       "      <td>1406</td>\n",
       "    </tr>\n",
       "    <tr>\n",
       "      <th>сидение</th>\n",
       "      <td>1</td>\n",
       "      <td>1235</td>\n",
       "      <td>91</td>\n",
       "      <td>0</td>\n",
       "      <td>0</td>\n",
       "      <td>450</td>\n",
       "      <td>1777</td>\n",
       "    </tr>\n",
       "    <tr>\n",
       "      <th>стояние</th>\n",
       "      <td>0</td>\n",
       "      <td>1344</td>\n",
       "      <td>0</td>\n",
       "      <td>0</td>\n",
       "      <td>0</td>\n",
       "      <td>562</td>\n",
       "      <td>1906</td>\n",
       "    </tr>\n",
       "    <tr>\n",
       "      <th>лежание</th>\n",
       "      <td>5</td>\n",
       "      <td>52</td>\n",
       "      <td>1558</td>\n",
       "      <td>0</td>\n",
       "      <td>0</td>\n",
       "      <td>329</td>\n",
       "      <td>1944</td>\n",
       "    </tr>\n",
       "    <tr>\n",
       "      <th>все</th>\n",
       "      <td>2470</td>\n",
       "      <td>2631</td>\n",
       "      <td>1649</td>\n",
       "      <td>279</td>\n",
       "      <td>1927</td>\n",
       "      <td>1343</td>\n",
       "      <td>10299</td>\n",
       "    </tr>\n",
       "  </tbody>\n",
       "</table>\n",
       "</div>"
      ],
      "text/plain": [
       "                          cluster1  cluster2  cluster3  cluster4  cluster5  \\\n",
       "ходьба                         903         0         0        78       741   \n",
       "подъем вверх по лестнице      1241         0         0         5       296   \n",
       "спуск по лестнице              320         0         0       196       890   \n",
       "сидение                          1      1235        91         0         0   \n",
       "стояние                          0      1344         0         0         0   \n",
       "лежание                          5        52      1558         0         0   \n",
       "все                           2470      2631      1649       279      1927   \n",
       "\n",
       "                          cluster6    все  \n",
       "ходьба                           0   1722  \n",
       "подъем вверх по лестнице         2   1544  \n",
       "спуск по лестнице                0   1406  \n",
       "сидение                        450   1777  \n",
       "стояние                        562   1906  \n",
       "лежание                        329   1944  \n",
       "все                           1343  10299  "
      ]
     },
     "execution_count": 13,
     "metadata": {},
     "output_type": "execute_result"
    }
   ],
   "source": [
    "tab = pd.crosstab(y, cluster_labels, margins=True)\n",
    "tab.index = ['ходьба', 'подъем вверх по лестнице', \n",
    "             'спуск по лестнице', 'сидение', 'стояние', 'лежание', 'все']\n",
    "tab.columns = ['cluster' + str(i + 1) for i in range(6)] + ['все']\n",
    "tab"
   ]
  },
  {
   "cell_type": "markdown",
   "metadata": {},
   "source": [
    "Видим, что каждому классу (т.е. каждой активности) соответствуют несколько кластеров. Давайте посмотрим на максимальную долю объектов в классе, отнесенных к какому-то одному кластеру. Это будет простой метрикой, характеризующей, насколько легко класс отделяется от других при кластеризации. \n",
    "\n",
    "Пример: если для класса \"спуск по лестнице\", в котором 1406 объектов,  распределение кластеров такое:\n",
    " - кластер 1 – 900\n",
    " - кластер 3 – 500\n",
    " - кластер 6 – 6,\n",
    " \n",
    "то такая доля будет 900 / 1406 $\\approx$ 0.64.\n",
    " \n",
    "\n",
    "**Вопрос 4:**<br>\n",
    "Какой вид активности отделился от остальных лучше всего в терминах простой  метрики, описанной выше?<br>\n",
    "\n",
    "**Ответ:**\n",
    "- ходьба\n",
    "- стояние\n",
    "- спуск по лестнице\n",
    "- нет верного ответа"
   ]
  },
  {
   "cell_type": "markdown",
   "metadata": {},
   "source": [
    "Видно, что kMeans не очень хорошо отличает только активности друг от друга. Используйте метод локтя, чтобы выбрать оптимальное количество кластеров, смотрите на функцию $D(k)$, описанную в 7-ой [статье](https://habrahabr.ru/company/ods/blog/325654/) курса – \"Выбор числа кластеров для kMeans\". Параметры алгоритма и данные используем те же, что раньше, меняем только `n_clusters`."
   ]
  },
  {
   "cell_type": "code",
   "execution_count": 14,
   "metadata": {},
   "outputs": [
    {
     "data": {
      "application/vnd.jupyter.widget-view+json": {
       "model_id": "d149db487a384ffe812fdb77a2b256d6",
       "version_major": 2,
       "version_minor": 0
      },
      "text/plain": [
       "A Jupyter Widget"
      ]
     },
     "metadata": {},
     "output_type": "display_data"
    },
    {
     "name": "stdout",
     "output_type": "stream",
     "text": [
      "\n"
     ]
    },
    {
     "data": {
      "text/plain": [
       "<matplotlib.text.Text at 0x7fa9780bf8d0>"
      ]
     },
     "execution_count": 14,
     "metadata": {},
     "output_type": "execute_result"
    },
    {
     "data": {
      "image/png": "[encoded data removed]",
      "text/plain": [
       "<matplotlib.figure.Figure at 0x7fa97836fda0>"
      ]
     },
     "metadata": {},
     "output_type": "display_data"
    }
   ],
   "source": [
    "# Ваш код здесь\n",
    "inertia = []\n",
    "for k in tqdm_notebook(range(1, n_classes + 1)):\n",
    "    kmeans = KMeans(n_clusters=k, n_init=100, random_state=RANDOM_STATE).fit(X)\n",
    "    inertia.append(np.sqrt(kmeans.inertia_))\n",
    "    #\n",
    "\n",
    "plt.plot(range(1, n_classes + 1), inertia, marker='s');\n",
    "plt.xlabel('$k$')\n",
    "plt.ylabel('$J(C_k)$')"
   ]
  },
  {
   "cell_type": "markdown",
   "metadata": {},
   "source": [
    "**Вопрос 5:**<br>\n",
    "Какое количество кластеров оптимально выбрать, согласно методу локтя?<br>\n",
    "\n",
    "**Ответ:**\n",
    "- 1\n",
    "- 2\n",
    "- 3\n",
    "- 4"
   ]
  },
  {
   "cell_type": "markdown",
   "metadata": {},
   "source": [
    "------------------------"
   ]
  },
  {
   "cell_type": "markdown",
   "metadata": {},
   "source": [
    "Попробуем еще один метод кластеризации, который описывался в статье – агломеративную кластеризацию."
   ]
  },
  {
   "cell_type": "code",
   "execution_count": 15,
   "metadata": {
    "collapsed": true
   },
   "outputs": [],
   "source": [
    "ag = AgglomerativeClustering(n_clusters=n_classes, \n",
    "                             linkage='ward').fit(X_pca)"
   ]
  },
  {
   "cell_type": "markdown",
   "metadata": {},
   "source": [
    "Посчитайте Adjusted Rand Index (`sklearn.metrics`) для получившегося разбиения на кластеры и для `KMeans` с параметрами из задания к 4 вопросу."
   ]
  },
  {
   "cell_type": "code",
   "execution_count": 16,
   "metadata": {
    "collapsed": true
   },
   "outputs": [],
   "source": [
    "# Ваш код здесь\n",
    "kmeans = KMeans(n_clusters=n_classes, n_init=100, random_state=RANDOM_STATE).fit(X_pca)\n",
    "cluster_labels_kmeans = kmeans.predict(X_pca)\n",
    "cluster_labels_ag = ag.labels_"
   ]
  },
  {
   "cell_type": "code",
   "execution_count": 17,
   "metadata": {},
   "outputs": [
    {
     "name": "stdout",
     "output_type": "stream",
     "text": [
      "kmeans: 0.4198070012602345\n",
      "aglom cl: 0.49362763373004886\n"
     ]
    }
   ],
   "source": [
    "print(\"kmeans: {0}\\naglom cl: {1}\".format(metrics.adjusted_rand_score(y, cluster_labels_kmeans), metrics.adjusted_rand_score(y, cluster_labels_ag)))"
   ]
  },
  {
   "cell_type": "markdown",
   "metadata": {},
   "source": [
    "**Вопрос 6:**<br>\n",
    "Отметьте все верные утверждения.<br>\n",
    "\n",
    "**Варианты:**\n",
    "- ARI выражает сходство меток, полученных после кластеризации, с метками классов для одной и той же выборки, и чем больше значение этого индекса, тем лучше\n",
    "- Согласно ARI, KMeans справился с кластеризацией хуже, чем Agglomerative Clustering\n",
    "- Для ARI не имеет значения, какие именно метки присвоены кластерам, имеет значение только разбиение объектов на кластеры\n",
    "- В случае случайного разбиения на кластеры ARI будет близок к нулю"
   ]
  },
  {
   "cell_type": "markdown",
   "metadata": {},
   "source": [
    "-------------------------------"
   ]
  },
  {
   "cell_type": "markdown",
   "metadata": {},
   "source": [
    "Можно заметить, что задача не очень хорошо решается именно как задача кластеризации, если выделять несколько кластеров (> 2). Давайте теперь решим задачу классификации, вспомнив, что данные у нас размечены.  \n",
    "\n",
    "Для классификации используйте метод опорных векторов – класс `sklearn.svm.LinearSVC`. Мы в курсе отдельно не рассматривали этот алгоритм, но он очень известен, почитать про него можно, например, в материалах Евгения Соколова –  [тут](https://github.com/esokolov/ml-course-msu/blob/master/ML16/lecture-notes/Sem11_linear.pdf). \n",
    "\n",
    "Настройте для `LinearSVC` гиперпараметр `C` с помощью `GridSearchCV`. \n",
    "\n",
    "- Обучите новый `StandardScaler` на обучающей выборке (со всеми исходными признаками), примените масштабирование к тестовой выборке\n",
    "- В `GridSearchCV` укажите  cv=3."
   ]
  },
  {
   "cell_type": "code",
   "execution_count": 18,
   "metadata": {
    "collapsed": true
   },
   "outputs": [],
   "source": [
    "# Ваш код здесь\n",
    "scaler = StandardScaler()\n",
    "X_train_scaled = scaler.fit_transform(X_train)\n",
    "X_test_scaled = scaler.transform(X_test)"
   ]
  },
  {
   "cell_type": "code",
   "execution_count": 19,
   "metadata": {},
   "outputs": [
    {
     "data": {
      "text/plain": [
       "GridSearchCV(cv=3, error_score='raise',\n",
       "       estimator=LinearSVC(C=1.0, class_weight=None, dual=True, fit_intercept=True,\n",
       "     intercept_scaling=1, loss='squared_hinge', max_iter=1000,\n",
       "     multi_class='ovr', penalty='l2', random_state=17, tol=0.0001,\n",
       "     verbose=0),\n",
       "       fit_params=None, iid=True, n_jobs=-1,\n",
       "       param_grid={'C': [0.001, 0.01, 0.1, 1, 10]},\n",
       "       pre_dispatch='2*n_jobs', refit=True, return_train_score=True,\n",
       "       scoring=None, verbose=0)"
      ]
     },
     "execution_count": 19,
     "metadata": {},
     "output_type": "execute_result"
    }
   ],
   "source": [
    "svc = LinearSVC(random_state=RANDOM_STATE)\n",
    "svc_params = {'C': [0.001, 0.01, 0.1, 1, 10]}\n",
    "gscv = GridSearchCV(svc, svc_params, n_jobs=-1, cv=3)\n",
    "gscv.fit(X_train_scaled, y_train)"
   ]
  },
  {
   "cell_type": "code",
   "execution_count": 20,
   "metadata": {
    "collapsed": true
   },
   "outputs": [],
   "source": [
    "# Ваш код здесь\n",
    "best_svc = gscv.best_estimator_"
   ]
  },
  {
   "cell_type": "code",
   "execution_count": 21,
   "metadata": {},
   "outputs": [
    {
     "data": {
      "text/plain": [
       "{'C': 0.1}"
      ]
     },
     "execution_count": 21,
     "metadata": {},
     "output_type": "execute_result"
    }
   ],
   "source": [
    "# Ваш код здесь\n",
    "gscv.best_params_ "
   ]
  },
  {
   "cell_type": "code",
   "execution_count": 22,
   "metadata": {},
   "outputs": [
    {
     "data": {
      "text/plain": [
       "0.93824809575625678"
      ]
     },
     "execution_count": 22,
     "metadata": {},
     "output_type": "execute_result"
    }
   ],
   "source": [
    "gscv.best_score_ "
   ]
  },
  {
   "cell_type": "markdown",
   "metadata": {},
   "source": [
    "**Вопрос 7**<br>\n",
    "Какое значение гиперпараметра `C` было выбрано лучшим по итогам кросс-валидации?<br>\n",
    "\n",
    "**Ответ:**\n",
    "- 0.001\n",
    "- 0.01\n",
    "- 0.1\n",
    "- 1\n",
    "- 10"
   ]
  },
  {
   "cell_type": "code",
   "execution_count": 23,
   "metadata": {
    "collapsed": true
   },
   "outputs": [],
   "source": [
    "y_predicted = best_svc.predict(X_test_scaled)"
   ]
  },
  {
   "cell_type": "code",
   "execution_count": 24,
   "metadata": {},
   "outputs": [
    {
     "data": {
      "text/html": [
       "<div>\n",
       "<style>\n",
       "    .dataframe thead tr:only-child th {\n",
       "        text-align: right;\n",
       "    }\n",
       "\n",
       "    .dataframe thead th {\n",
       "        text-align: left;\n",
       "    }\n",
       "\n",
       "    .dataframe tbody tr th {\n",
       "        vertical-align: top;\n",
       "    }\n",
       "</style>\n",
       "<table border=\"1\" class=\"dataframe\">\n",
       "  <thead>\n",
       "    <tr style=\"text-align: right;\">\n",
       "      <th></th>\n",
       "      <th>ходьба</th>\n",
       "      <th>подъем вверх по лестнице</th>\n",
       "      <th>спуск по лестнице</th>\n",
       "      <th>сидение</th>\n",
       "      <th>стояние</th>\n",
       "      <th>лежание</th>\n",
       "      <th>все</th>\n",
       "    </tr>\n",
       "  </thead>\n",
       "  <tbody>\n",
       "    <tr>\n",
       "      <th>ходьба</th>\n",
       "      <td>494</td>\n",
       "      <td>2</td>\n",
       "      <td>0</td>\n",
       "      <td>0</td>\n",
       "      <td>0</td>\n",
       "      <td>0</td>\n",
       "      <td>496</td>\n",
       "    </tr>\n",
       "    <tr>\n",
       "      <th>подъем вверх по лестнице</th>\n",
       "      <td>12</td>\n",
       "      <td>459</td>\n",
       "      <td>0</td>\n",
       "      <td>0</td>\n",
       "      <td>0</td>\n",
       "      <td>0</td>\n",
       "      <td>471</td>\n",
       "    </tr>\n",
       "    <tr>\n",
       "      <th>спуск по лестнице</th>\n",
       "      <td>2</td>\n",
       "      <td>4</td>\n",
       "      <td>413</td>\n",
       "      <td>1</td>\n",
       "      <td>0</td>\n",
       "      <td>0</td>\n",
       "      <td>420</td>\n",
       "    </tr>\n",
       "    <tr>\n",
       "      <th>сидение</th>\n",
       "      <td>0</td>\n",
       "      <td>4</td>\n",
       "      <td>0</td>\n",
       "      <td>426</td>\n",
       "      <td>61</td>\n",
       "      <td>0</td>\n",
       "      <td>491</td>\n",
       "    </tr>\n",
       "    <tr>\n",
       "      <th>стояние</th>\n",
       "      <td>0</td>\n",
       "      <td>0</td>\n",
       "      <td>0</td>\n",
       "      <td>15</td>\n",
       "      <td>517</td>\n",
       "      <td>0</td>\n",
       "      <td>532</td>\n",
       "    </tr>\n",
       "    <tr>\n",
       "      <th>лежание</th>\n",
       "      <td>0</td>\n",
       "      <td>0</td>\n",
       "      <td>0</td>\n",
       "      <td>0</td>\n",
       "      <td>11</td>\n",
       "      <td>526</td>\n",
       "      <td>537</td>\n",
       "    </tr>\n",
       "    <tr>\n",
       "      <th>все</th>\n",
       "      <td>508</td>\n",
       "      <td>469</td>\n",
       "      <td>413</td>\n",
       "      <td>442</td>\n",
       "      <td>589</td>\n",
       "      <td>526</td>\n",
       "      <td>2947</td>\n",
       "    </tr>\n",
       "  </tbody>\n",
       "</table>\n",
       "</div>"
      ],
      "text/plain": [
       "                          ходьба  подъем вверх по лестнице  спуск по лестнице  \\\n",
       "ходьба                       494                         2                  0   \n",
       "подъем вверх по лестнице      12                       459                  0   \n",
       "спуск по лестнице              2                         4                413   \n",
       "сидение                        0                         4                  0   \n",
       "стояние                        0                         0                  0   \n",
       "лежание                        0                         0                  0   \n",
       "все                          508                       469                413   \n",
       "\n",
       "                          сидение  стояние  лежание   все  \n",
       "ходьба                          0        0        0   496  \n",
       "подъем вверх по лестнице        0        0        0   471  \n",
       "спуск по лестнице               1        0        0   420  \n",
       "сидение                       426       61        0   491  \n",
       "стояние                        15      517        0   532  \n",
       "лежание                         0       11      526   537  \n",
       "все                           442      589      526  2947  "
      ]
     },
     "execution_count": 24,
     "metadata": {},
     "output_type": "execute_result"
    }
   ],
   "source": [
    "tab = pd.crosstab(y_test, y_predicted, margins=True)\n",
    "tab.index = ['ходьба', 'подъем вверх по лестнице', 'спуск по лестнице', \n",
    "             'сидение', 'стояние', 'лежание', 'все']\n",
    "tab.columns = ['ходьба', 'подъем вверх по лестнице', 'спуск по лестнице', \n",
    "               'сидение', 'стояние', 'лежание', 'все']\n",
    "tab"
   ]
  },
  {
   "cell_type": "markdown",
   "metadata": {},
   "source": [
    "Как видим, задача классификации решается неплохо."
   ]
  },
  {
   "cell_type": "markdown",
   "metadata": {},
   "source": [
    "**Вопрос 8:**<br>\n",
    "Путает ли SVM классы внутри выделенных нами ранее (в задании к 3 вопросу) группах активностей? Считаем, что путает, если хотя бы в одном случае алгоритм ошибся.<br>\n",
    "\n",
    "**Ответ:**\n",
    "- да\n",
    "- нет"
   ]
  },
  {
   "cell_type": "code",
   "execution_count": 25,
   "metadata": {},
   "outputs": [
    {
     "data": {
      "text/plain": [
       "array([ 0.50781172,  0.57361853,  0.60168289,  0.62672242,  0.64560527,\n",
       "        0.66284534,  0.67655545,  0.68854623,  0.69850482,  0.70815569,\n",
       "        0.7167562 ,  0.72475901,  0.73239898,  0.73885227,  0.74517551,\n",
       "        0.75117273,  0.75704023,  0.76279431,  0.76847352,  0.77374648,\n",
       "        0.77875011,  0.78363419,  0.78841625,  0.79310188,  0.79759477,\n",
       "        0.80180504,  0.80598483,  0.81004053,  0.81392577,  0.81779595,\n",
       "        0.82145554,  0.82500108,  0.8284805 ,  0.83185237,  0.83514914,\n",
       "        0.83843129,  0.84163659,  0.84459274,  0.84745996,  0.85031071,\n",
       "        0.85299837,  0.85565457,  0.85828863,  0.86087714,  0.86336768,\n",
       "        0.86583722,  0.86824402,  0.87060517,  0.87290796,  0.87518364,\n",
       "        0.87738528,  0.87951995,  0.881597  ,  0.88362196,  0.88561976,\n",
       "        0.88759726,  0.88954   ,  0.89144237,  0.89332302,  0.89518518,\n",
       "        0.89699985,  0.89877366,  0.90053451])"
      ]
     },
     "execution_count": 25,
     "metadata": {},
     "output_type": "execute_result"
    }
   ],
   "source": [
    "pca = PCA(n_components=63, svd_solver='full', random_state=RANDOM_STATE)\n",
    "evr = pca.fit(X_train_scaled).explained_variance_ratio_\n",
    "np.sort(evr)\n",
    "np.cumsum(evr)"
   ]
  },
  {
   "cell_type": "code",
   "execution_count": 26,
   "metadata": {},
   "outputs": [
    {
     "name": "stdout",
     "output_type": "stream",
     "text": [
      "0.898394994559\n"
     ]
    }
   ],
   "source": [
    "X_train_pca = pca.transform(X_train_scaled)\n",
    "X_test_pca = pca.transform(X_test_scaled)\n",
    "svc = LinearSVC(random_state=RANDOM_STATE)\n",
    "svc_params = {'C': [0.001, 0.01, 0.1, 1, 10]}\n",
    "gscv = GridSearchCV(svc, svc_params, n_jobs=1, cv=3)\n",
    "gscv.fit(X_train_pca, y_train)\n",
    "best_svc = gscv.best_estimator_\n",
    "print(gscv.best_score_)"
   ]
  },
  {
   "cell_type": "markdown",
   "metadata": {},
   "source": [
    "Наконец, проделайте то же самое, что в 7 вопросе, только добавив PCA.\n",
    "\n",
    "- Используйте выборки `X_train_scaled` и `X_test_scaled`\n",
    "- Используйте тот же PCA, что раньше (сохранить надо 90% дисперсии), обучите его на отмасшабированной обучающей выборке, примените преобразование к тестовой\n",
    "- Настройте гиперпараметр `C` на кросс-валидации по обучающей выборке с PCA-преобразованием. Вы заметите, насколько это проходит быстрее, чем раньше.\n",
    "\n",
    "**Вопрос 9:**<br>\n",
    "Какова разность между лучшим качеством (долей верных ответов) на кросс-валидации в случае всех 561 исходных признаков и во втором случае, когда применялся метод главных компонент? Округлите до целых процентов.<br>\n",
    "\n",
    "**Варианты:**\n",
    "- Качество одинаковое\n",
    "- 2%\n",
    "- 4% \n",
    "- 10%\n",
    "- 20%\n"
   ]
  },
  {
   "cell_type": "markdown",
   "metadata": {},
   "source": [
    "**Вопрос 10:**<br>\n",
    "Выберите все верные утверждения:\n",
    "\n",
    "**Варианты:**\n",
    "- Метод главных компонент в данном случае позволил уменьшить время обучения модели, при этом качество (доля верных ответов на кросс-валидации) очень пострадало, более чем на 10%\n",
    "- PCA можно использовать для визуализации данных, однако для этой задачи есть и лучше подходящие методы, например, tSNE. Зато PCA имеет меньшую вычислительную сложность\n",
    "- PCA строит линейные комбинации исходных признаков, которые плохо интерпретируются человеком\n",
    "- SVM работает лучше, чем kMeans, поскольку этот алгоритм явно сводится к задаче оптимизации"
   ]
  }
 ],
 "metadata": {
  "anaconda-cloud": {},
  "kernelspec": {
   "display_name": "Python 3",
   "language": "python",
   "name": "python3"
  },
  "language_info": {
   "codemirror_mode": {
    "name": "ipython",
    "version": 3
   },
   "file_extension": ".py",
   "mimetype": "text/x-python",
   "name": "python",
   "nbconvert_exporter": "python",
   "pygments_lexer": "ipython3",
   "version": "3.4.3"
  }
 },
 "nbformat": 4,
 "nbformat_minor": 2
}
